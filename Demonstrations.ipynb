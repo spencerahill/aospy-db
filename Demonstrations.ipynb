{
 "cells": [
  {
   "cell_type": "markdown",
   "metadata": {},
   "source": [
    "Demonstrations & API Experimentation\n",
    "====================\n",
    "In this notebook we'll experiment with how the user of aospy might interface with the database.\n",
    "\n",
    "Updates:\n",
    "- 01-23-2016, 01-24-2016 [SKC]: Some first examples of how we can hide database internals from the front-end user. For Calcs in particular I think we'll eventually want to return DataArrays or Datasets, but that will have to wait until we integrate with the full version of ```aospy```; this shouldn't be that hard to do since we keep track of the filepaths in the sqlite database."
   ]
  },
  {
   "cell_type": "code",
   "execution_count": 1,
   "metadata": {
    "collapsed": true
   },
   "outputs": [],
   "source": [
    "import cases"
   ]
  },
  {
   "cell_type": "code",
   "execution_count": 2,
   "metadata": {
    "collapsed": false
   },
   "outputs": [
    {
     "data": {
      "text/plain": [
       "[<aospy.Calc(var: gz)>\n",
       " Attributes:\n",
       "   * filepath:\t\t/work/Spencer.Clark/example/am2/am2_control/gz/gz.jas.av.vert_int.from_monthly_ts_sigma.am2.am2_control.0021-0080.nc\n",
       "   * description:\tNone\n",
       "   * intvl_in:\t\tmonthly\n",
       "   * intvl_out:\t\tjas\n",
       "   * dtype_out_time:\t\tav, <aospy.Calc(var: gz)>\n",
       " Attributes:\n",
       "   * filepath:\t\t/work/Spencer.Clark/example/am2/am2_control/gz/gz.jas.ts.vert_int.from_monthly_ts_sigma.am2.am2_control.0021-0080.nc\n",
       "   * description:\tNone\n",
       "   * intvl_in:\t\tmonthly\n",
       "   * intvl_out:\t\tjas\n",
       "   * dtype_out_time:\t\tts]"
      ]
     },
     "execution_count": 2,
     "metadata": {},
     "output_type": "execute_result"
    }
   ],
   "source": [
    "# 01-23-2016 [SKC]\n",
    "# This is a simple command that a Run implements; a user can specify any number of \n",
    "# keyword arguments that serve as filters to query the database with.  The function\n",
    "# returns a database representation of calculations from that particular run that\n",
    "# meet the keyword argument conditions specified by the user.\n",
    "cases.am2_control.get_calcs(name='gz', intvl_out='jas')"
   ]
  },
  {
   "cell_type": "code",
   "execution_count": 8,
   "metadata": {
    "collapsed": false
   },
   "outputs": [
    {
     "data": {
      "text/plain": [
       "[<aospy.Calc(var: gz)>\n",
       " Attributes:\n",
       "   * filepath:\t\t/work/Spencer.Clark/example/am2/am2_control/gz/gz.jas.ts.vert_int.from_monthly_ts_sigma.am2.am2_control.0021-0080.nc\n",
       "   * description:\tNone\n",
       "   * intvl_in:\t\tmonthly\n",
       "   * intvl_out:\t\tjas\n",
       "   * dtype_out_time:\t\tts]"
      ]
     },
     "execution_count": 8,
     "metadata": {},
     "output_type": "execute_result"
    }
   ],
   "source": [
    "# 01-23-2016 [SKC]\n",
    "# Increasing the number of conditions constrains the search\n",
    "cases.am2_control.get_calcs(name='gz', intvl_out='jas', dtype_out_time='ts')"
   ]
  },
  {
   "cell_type": "code",
   "execution_count": 9,
   "metadata": {
    "collapsed": false
   },
   "outputs": [
    {
     "data": {
      "text/plain": [
       "[<Var(name='gz', description='None')>,\n",
       " <Var(name='dse', description='None')>,\n",
       " <Var(name='mse', description='None')>]"
      ]
     },
     "execution_count": 9,
     "metadata": {},
     "output_type": "execute_result"
    }
   ],
   "source": [
    "# 01-24-2016 [SKC]\n",
    "# This function returns variables for which calcs with the given parameters exist\n",
    "cases.am2_control.get_vars(intvl_out='jas')"
   ]
  },
  {
   "cell_type": "code",
   "execution_count": 11,
   "metadata": {
    "collapsed": false
   },
   "outputs": [
    {
     "data": {
      "text/plain": [
       "[<Var(name='gz', description='None')>]"
      ]
     },
     "execution_count": 11,
     "metadata": {},
     "output_type": "execute_result"
    }
   ],
   "source": [
    "# 01-24-2016 [SKC]\n",
    "# Here it is clear that we haven't computed djf averages for mse and dse\n",
    "cases.am2_control.get_vars(intvl_out='djf')"
   ]
  }
 ],
 "metadata": {
  "kernelspec": {
   "display_name": "Python 2",
   "language": "python",
   "name": "python2"
  },
  "language_info": {
   "codemirror_mode": {
    "name": "ipython",
    "version": 2
   },
   "file_extension": ".py",
   "mimetype": "text/x-python",
   "name": "python",
   "nbconvert_exporter": "python",
   "pygments_lexer": "ipython2",
   "version": "2.7.10"
  }
 },
 "nbformat": 4,
 "nbformat_minor": 0
}
