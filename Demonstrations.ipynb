{
 "cells": [
  {
   "cell_type": "markdown",
   "metadata": {},
   "source": [
    "Demonstrations & API Experimentation\n",
    "====================\n",
    "In this notebook we'll experiment with how the user of aospy might interface with the database.\n",
    "\n",
    "Updates:\n",
    "- 01-23-2016 [SKC]: Some first examples of how we can hide database internals from the front-end user."
   ]
  },
  {
   "cell_type": "code",
   "execution_count": 4,
   "metadata": {
    "collapsed": true
   },
   "outputs": [],
   "source": [
    "import cases"
   ]
  },
  {
   "cell_type": "code",
   "execution_count": 9,
   "metadata": {
    "collapsed": false
   },
   "outputs": [
    {
     "data": {
      "text/plain": [
       "[<aospy.Calc(var: gz)>\n",
       " Attributes:\n",
       "   * filepath:\t\t/work/Spencer.Clark/example/am2/am2_control/gz/gz.jas.av.vert_int.from_monthly_ts_sigma.am2.am2_control.0021-0080.nc\n",
       "   * description:\tNone\n",
       "   * intvl_in:\t\tmonthly\n",
       "   * intvl_out:\t\tjas\n",
       "   * dtype_out_time:\t\tav, <aospy.Calc(var: gz)>\n",
       " Attributes:\n",
       "   * filepath:\t\t/work/Spencer.Clark/example/am2/am2_control/gz/gz.jas.ts.vert_int.from_monthly_ts_sigma.am2.am2_control.0021-0080.nc\n",
       "   * description:\tNone\n",
       "   * intvl_in:\t\tmonthly\n",
       "   * intvl_out:\t\tjas\n",
       "   * dtype_out_time:\t\tts]"
      ]
     },
     "execution_count": 9,
     "metadata": {},
     "output_type": "execute_result"
    }
   ],
   "source": [
    "# 01-23-2016 [SKC]\n",
    "# This is a simple command that a Run implements; a user can specify any number of \n",
    "# keyword arguments that serve as filters to query the database with.  The function\n",
    "# returns a database representation of calculations from that particular run that\n",
    "# meet the keyword argument conditions specified by the user.\n",
    "cases.am2_control.get_calcs(name='gz', intvl_out='jas')"
   ]
  },
  {
   "cell_type": "code",
   "execution_count": 10,
   "metadata": {
    "collapsed": false
   },
   "outputs": [
    {
     "data": {
      "text/plain": [
       "[<aospy.Calc(var: gz)>\n",
       " Attributes:\n",
       "   * filepath:\t\t/work/Spencer.Clark/example/am2/am2_control/gz/gz.jas.ts.vert_int.from_monthly_ts_sigma.am2.am2_control.0021-0080.nc\n",
       "   * description:\tNone\n",
       "   * intvl_in:\t\tmonthly\n",
       "   * intvl_out:\t\tjas\n",
       "   * dtype_out_time:\t\tts]"
      ]
     },
     "execution_count": 10,
     "metadata": {},
     "output_type": "execute_result"
    }
   ],
   "source": [
    "# 01-23-2016 [SKC]\n",
    "cases.am2_control.get_calcs(name='gz', intvl_out='jas', dtype_out_time='ts')"
   ]
  }
 ],
 "metadata": {
  "kernelspec": {
   "display_name": "Python 2",
   "language": "python",
   "name": "python2"
  },
  "language_info": {
   "codemirror_mode": {
    "name": "ipython",
    "version": 2
   },
   "file_extension": ".py",
   "mimetype": "text/x-python",
   "name": "python",
   "nbconvert_exporter": "python",
   "pygments_lexer": "ipython2",
   "version": "2.7.10"
  }
 },
 "nbformat": 4,
 "nbformat_minor": 0
}
