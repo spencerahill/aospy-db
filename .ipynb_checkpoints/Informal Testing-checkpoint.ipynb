{
 "cells": [
  {
   "cell_type": "code",
   "execution_count": 1,
   "metadata": {
    "collapsed": false
   },
   "outputs": [],
   "source": [
    "from aospy_synthetic.aospy_db import create_session, get_or_create\n",
    "from aospy_synthetic.aospy_db import Calc as dbCalc\n",
    "from aospy_synthetic.aospy_db import Var as dbVar\n",
    "from aospy_synthetic.aospy_db import Run as dbRun\n",
    "from aospy_synthetic.run import Run\n",
    "from sqlalchemy.orm import aliased\n",
    "import cases"
   ]
  },
  {
   "cell_type": "code",
   "execution_count": 2,
   "metadata": {
    "collapsed": false
   },
   "outputs": [
    {
     "data": {
      "text/plain": [
       "[<aospy.Calc(var: gz)>\n",
       " Attributes:\n",
       "   * filepath:\t\t/work/Spencer.Clark/example/am2/am2_control/gz/gz.jas.av.vert_int.from_monthly_ts_sigma.am2.am2_control.0021-0080.nc\n",
       "   * description:\tNone\n",
       "   * intvl_in:\t\tmonthly\n",
       "   * intvl_out:\t\tjas\n",
       "   * dtype_out_time:\t\tav, <aospy.Calc(var: gz)>\n",
       " Attributes:\n",
       "   * filepath:\t\t/work/Spencer.Clark/example/am2/am2_control/gz/gz.jas.ts.vert_int.from_monthly_ts_sigma.am2.am2_control.0021-0080.nc\n",
       "   * description:\tNone\n",
       "   * intvl_in:\t\tmonthly\n",
       "   * intvl_out:\t\tjas\n",
       "   * dtype_out_time:\t\tts]"
      ]
     },
     "execution_count": 2,
     "metadata": {},
     "output_type": "execute_result"
    }
   ],
   "source": [
    "cases.am2_control.get_calcs(name='gz', intvl_out='jas')"
   ]
  },
  {
   "cell_type": "code",
   "execution_count": 3,
   "metadata": {
    "collapsed": false
   },
   "outputs": [
    {
     "data": {
      "text/plain": [
       "[<aospy.Calc(var: gz)>\n",
       " Attributes:\n",
       "   * filepath:\t\t/work/Spencer.Clark/example/am2/am2_control/gz/gz.jas.ts.vert_int.from_monthly_ts_sigma.am2.am2_control.0021-0080.nc\n",
       "   * description:\tNone\n",
       "   * intvl_in:\t\tmonthly\n",
       "   * intvl_out:\t\tjas\n",
       "   * dtype_out_time:\t\tts]"
      ]
     },
     "execution_count": 3,
     "metadata": {},
     "output_type": "execute_result"
    }
   ],
   "source": [
    "cases.am2_control.get_calcs(name='gz', intvl_out='jas', dtype_out_time='ts')"
   ]
  },
  {
   "cell_type": "code",
   "execution_count": 4,
   "metadata": {
    "collapsed": false
   },
   "outputs": [],
   "source": [
    "session = create_session()\n",
    "rn = cases.am2_control.get_db_entry(session)"
   ]
  },
  {
   "cell_type": "code",
   "execution_count": 5,
   "metadata": {
    "collapsed": false
   },
   "outputs": [
    {
     "data": {
      "text/plain": [
       "<Run(name='am2_control', description='Preindustrial control simulation.')>"
      ]
     },
     "execution_count": 5,
     "metadata": {},
     "output_type": "execute_result"
    }
   ],
   "source": [
    "rn"
   ]
  },
  {
   "cell_type": "code",
   "execution_count": 6,
   "metadata": {
    "collapsed": false
   },
   "outputs": [
    {
     "data": {
      "text/plain": [
       "[<aospy.Calc(var: gz)>\n",
       " Attributes:\n",
       "   * filepath:\t\t/work/Spencer.Clark/example/am2/am2_control/gz/gz.jas.av.vert_int.from_monthly_ts_sigma.am2.am2_control.0021-0080.nc\n",
       "   * description:\tNone\n",
       "   * intvl_in:\t\tmonthly\n",
       "   * intvl_out:\t\tjas\n",
       "   * dtype_out_time:\t\tav, <aospy.Calc(var: gz)>\n",
       " Attributes:\n",
       "   * filepath:\t\t/work/Spencer.Clark/example/am2/am2_control/gz/gz.jas.ts.vert_int.from_monthly_ts_sigma.am2.am2_control.0021-0080.nc\n",
       "   * description:\tNone\n",
       "   * intvl_in:\t\tmonthly\n",
       "   * intvl_out:\t\tjas\n",
       "   * dtype_out_time:\t\tts, <aospy.Calc(var: dse)>\n",
       " Attributes:\n",
       "   * filepath:\t\t/work/Spencer.Clark/example/am2/am2_control/dse/dse.jas.av.vert_int.from_monthly_ts_sigma.am2.am2_control.0021-0080.nc\n",
       "   * description:\tNone\n",
       "   * intvl_in:\t\tmonthly\n",
       "   * intvl_out:\t\tjas\n",
       "   * dtype_out_time:\t\tav, <aospy.Calc(var: dse)>\n",
       " Attributes:\n",
       "   * filepath:\t\t/work/Spencer.Clark/example/am2/am2_control/dse/dse.jas.ts.vert_int.from_monthly_ts_sigma.am2.am2_control.0021-0080.nc\n",
       "   * description:\tNone\n",
       "   * intvl_in:\t\tmonthly\n",
       "   * intvl_out:\t\tjas\n",
       "   * dtype_out_time:\t\tts, <aospy.Calc(var: mse)>\n",
       " Attributes:\n",
       "   * filepath:\t\t/work/Spencer.Clark/example/am2/am2_control/mse/mse.jas.av.vert_int.from_monthly_ts_sigma.am2.am2_control.0021-0080.nc\n",
       "   * description:\tNone\n",
       "   * intvl_in:\t\tmonthly\n",
       "   * intvl_out:\t\tjas\n",
       "   * dtype_out_time:\t\tav, <aospy.Calc(var: mse)>\n",
       " Attributes:\n",
       "   * filepath:\t\t/work/Spencer.Clark/example/am2/am2_control/mse/mse.jas.ts.vert_int.from_monthly_ts_sigma.am2.am2_control.0021-0080.nc\n",
       "   * description:\tNone\n",
       "   * intvl_in:\t\tmonthly\n",
       "   * intvl_out:\t\tjas\n",
       "   * dtype_out_time:\t\tts]"
      ]
     },
     "execution_count": 6,
     "metadata": {},
     "output_type": "execute_result"
    }
   ],
   "source": [
    "session.query(dbCalc).filter_by(run=rn, intvl_out='jas').all()"
   ]
  },
  {
   "cell_type": "code",
   "execution_count": 23,
   "metadata": {
    "collapsed": false
   },
   "outputs": [
    {
     "data": {
      "text/plain": [
       "[<Var(name='gz', description='None')>]"
      ]
     },
     "execution_count": 23,
     "metadata": {},
     "output_type": "execute_result"
    }
   ],
   "source": [
    "session.query(dbVar).join(dbCalc, (dbCalc.var_id == dbVar.id) & (dbCalc.intvl_out == 'djf')).all()"
   ]
  },
  {
   "cell_type": "code",
   "execution_count": 30,
   "metadata": {
    "collapsed": false
   },
   "outputs": [
    {
     "data": {
      "text/plain": [
       "[<Var(name='gz', description='None')>]"
      ]
     },
     "execution_count": 30,
     "metadata": {},
     "output_type": "execute_result"
    }
   ],
   "source": [
    "t = session.query(dbCalc).filter_by(run=rn, intvl_out='djf').subquery('t')\n",
    "session.query(dbVar).filter(t.c.var_id == dbVar.id).all()"
   ]
  },
  {
   "cell_type": "code",
   "execution_count": 7,
   "metadata": {
    "collapsed": false
   },
   "outputs": [
    {
     "data": {
      "text/plain": [
       "[(u'/work/Spencer.Clark/example/am2/am2_control/gz/gz.jas.av.vert_int.from_monthly_ts_sigma.am2.am2_control.0021-0080.nc'),\n",
       " (u'/work/Spencer.Clark/example/am2/am2_control/gz/gz.jas.ts.vert_int.from_monthly_ts_sigma.am2.am2_control.0021-0080.nc'),\n",
       " (u'/work/Spencer.Clark/example/am2/am2_control/dse/dse.jas.av.vert_int.from_monthly_ts_sigma.am2.am2_control.0021-0080.nc'),\n",
       " (u'/work/Spencer.Clark/example/am2/am2_control/dse/dse.jas.ts.vert_int.from_monthly_ts_sigma.am2.am2_control.0021-0080.nc'),\n",
       " (u'/work/Spencer.Clark/example/am2/am2_control/mse/mse.jas.av.vert_int.from_monthly_ts_sigma.am2.am2_control.0021-0080.nc'),\n",
       " (u'/work/Spencer.Clark/example/am2/am2_control/mse/mse.jas.ts.vert_int.from_monthly_ts_sigma.am2.am2_control.0021-0080.nc')]"
      ]
     },
     "execution_count": 7,
     "metadata": {},
     "output_type": "execute_result"
    }
   ],
   "source": [
    "session.query(dbCalc.filepath).filter_by(run=rn, intvl_out='jas').all()"
   ]
  },
  {
   "cell_type": "code",
   "execution_count": 10,
   "metadata": {
    "collapsed": true
   },
   "outputs": [],
   "source": [
    "session.close()"
   ]
  }
 ],
 "metadata": {
  "kernelspec": {
   "display_name": "Python 2",
   "language": "python",
   "name": "python2"
  },
  "language_info": {
   "codemirror_mode": {
    "name": "ipython",
    "version": 2
   },
   "file_extension": ".py",
   "mimetype": "text/x-python",
   "name": "python",
   "nbconvert_exporter": "python",
   "pygments_lexer": "ipython2",
   "version": "2.7.10"
  }
 },
 "nbformat": 4,
 "nbformat_minor": 0
}
