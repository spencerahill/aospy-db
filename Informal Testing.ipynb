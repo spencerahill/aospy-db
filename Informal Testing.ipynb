{
 "cells": [
  {
   "cell_type": "code",
   "execution_count": 1,
   "metadata": {
    "collapsed": false
   },
   "outputs": [],
   "source": [
    "from aospy_synthetic.aospy_db import create_session, get_or_create\n",
    "from aospy_synthetic.aospy_db import Calc as dbCalc\n",
    "from aospy_synthetic.aospy_db import Var as dbVar\n",
    "from aospy_synthetic.aospy_db import Run as dbRun\n",
    "from aospy_synthetic.run import Run\n",
    "from sqlalchemy.orm import aliased\n",
    "import cases"
   ]
  },
  {
   "cell_type": "code",
   "execution_count": 2,
   "metadata": {
    "collapsed": false
   },
   "outputs": [
    {
     "data": {
      "text/plain": [
       "[<aospy.Calc(name: tdt_sw)>\n",
       " Attributes:\n",
       "   * filepath:\t\ttdt_sw.jas.av.vert_int.from_monthly_ts_sigma.am2.am2_control.0021-0080.nc\n",
       "   * description:\tNone\n",
       "   * intvl_in:\t\tmonthly\n",
       "   * intvl_out:\t\tjas, <aospy.Calc(name: tdt_lw)>\n",
       " Attributes:\n",
       "   * filepath:\t\ttdt_lw.jas.av.vert_int.from_monthly_ts_sigma.am2.am2_control.0021-0080.nc\n",
       "   * description:\tNone\n",
       "   * intvl_in:\t\tmonthly\n",
       "   * intvl_out:\t\tjas, <aospy.Calc(name: tdt_vdif)>\n",
       " Attributes:\n",
       "   * filepath:\t\ttdt_vdif.jas.av.vert_int.from_monthly_ts_sigma.am2.am2_control.0021-0080.nc\n",
       "   * description:\tNone\n",
       "   * intvl_in:\t\tmonthly\n",
       "   * intvl_out:\t\tjas, <aospy.Calc(name: qdt_vdif)>\n",
       " Attributes:\n",
       "   * filepath:\t\tqdt_vdif.jas.av.vert_int.from_monthly_ts_sigma.am2.am2_control.0021-0080.nc\n",
       "   * description:\tNone\n",
       "   * intvl_in:\t\tmonthly\n",
       "   * intvl_out:\t\tjas]"
      ]
     },
     "execution_count": 2,
     "metadata": {},
     "output_type": "execute_result"
    }
   ],
   "source": [
    "cases.am2_control.get_calcs(intvl_out='jas')"
   ]
  },
  {
   "cell_type": "code",
   "execution_count": 3,
   "metadata": {
    "collapsed": false
   },
   "outputs": [],
   "source": [
    "session = create_session()\n",
    "rn = cases.am2_control.get_db_entry(session)"
   ]
  },
  {
   "cell_type": "code",
   "execution_count": 4,
   "metadata": {
    "collapsed": false
   },
   "outputs": [
    {
     "data": {
      "text/plain": [
       "<Run(name='am2_control', description='Preindustrial control simulation.')>"
      ]
     },
     "execution_count": 4,
     "metadata": {},
     "output_type": "execute_result"
    }
   ],
   "source": [
    "rn"
   ]
  },
  {
   "cell_type": "code",
   "execution_count": 3,
   "metadata": {
    "collapsed": false
   },
   "outputs": [
    {
     "data": {
      "text/plain": [
       "[<aospy.Calc(name: tdt_sw)>\n",
       " Attributes:\n",
       "   * filepath:\t\ttdt_sw.jas.av.vert_int.from_monthly_ts_sigma.am2.am2_control.0021-0080.nc\n",
       "   * description:\tNone\n",
       "   * intvl_in:\t\tmonthly\n",
       "   * intvl_out:\t\tjas, <aospy.Calc(name: tdt_lw)>\n",
       " Attributes:\n",
       "   * filepath:\t\ttdt_lw.jas.av.vert_int.from_monthly_ts_sigma.am2.am2_control.0021-0080.nc\n",
       "   * description:\tNone\n",
       "   * intvl_in:\t\tmonthly\n",
       "   * intvl_out:\t\tjas, <aospy.Calc(name: tdt_vdif)>\n",
       " Attributes:\n",
       "   * filepath:\t\ttdt_vdif.jas.av.vert_int.from_monthly_ts_sigma.am2.am2_control.0021-0080.nc\n",
       "   * description:\tNone\n",
       "   * intvl_in:\t\tmonthly\n",
       "   * intvl_out:\t\tjas, <aospy.Calc(name: qdt_vdif)>\n",
       " Attributes:\n",
       "   * filepath:\t\tqdt_vdif.jas.av.vert_int.from_monthly_ts_sigma.am2.am2_control.0021-0080.nc\n",
       "   * description:\tNone\n",
       "   * intvl_in:\t\tmonthly\n",
       "   * intvl_out:\t\tjas]"
      ]
     },
     "execution_count": 3,
     "metadata": {},
     "output_type": "execute_result"
    }
   ],
   "source": [
    "session.query(dbCalc).filter_by(run=rn, intvl_out='jas').all()"
   ]
  },
  {
   "cell_type": "code",
   "execution_count": 63,
   "metadata": {
    "collapsed": false
   },
   "outputs": [
    {
     "data": {
      "text/plain": [
       "[(u'tdt_sw.jas.av.vert_int.from_monthly_ts_sigma.am2.am2_control.0021-0080.nc'),\n",
       " (u'tdt_lw.jas.av.vert_int.from_monthly_ts_sigma.am2.am2_control.0021-0080.nc'),\n",
       " (u'tdt_vdif.jas.av.vert_int.from_monthly_ts_sigma.am2.am2_control.0021-0080.nc'),\n",
       " (u'qdt_vdif.jas.av.vert_int.from_monthly_ts_sigma.am2.am2_control.0021-0080.nc')]"
      ]
     },
     "execution_count": 63,
     "metadata": {},
     "output_type": "execute_result"
    }
   ],
   "source": [
    "session.query(dbCalc.filepath).filter_by(run=rn, intvl_out='jas').all()"
   ]
  },
  {
   "cell_type": "code",
   "execution_count": 91,
   "metadata": {
    "collapsed": true
   },
   "outputs": [],
   "source": [
    "test = aliased(dbCalc)"
   ]
  },
  {
   "cell_type": "code",
   "execution_count": 97,
   "metadata": {
    "collapsed": false
   },
   "outputs": [
    {
     "data": {
      "text/plain": [
       "[<aospy.Calc(name: tdt_sw)>\n",
       " Attributes:\n",
       "   * filepath:\t\ttdt_sw.jas.av.vert_int.from_monthly_ts_sigma.am2.am2_control.0021-0080.nc\n",
       "   * description:\tNone\n",
       "   * intvl_in:\t\tmonthly\n",
       "   * intvl_out:\t\tjas, <aospy.Calc(name: tdt_lw)>\n",
       " Attributes:\n",
       "   * filepath:\t\ttdt_lw.jas.av.vert_int.from_monthly_ts_sigma.am2.am2_control.0021-0080.nc\n",
       "   * description:\tNone\n",
       "   * intvl_in:\t\tmonthly\n",
       "   * intvl_out:\t\tjas, <aospy.Calc(name: tdt_vdif)>\n",
       " Attributes:\n",
       "   * filepath:\t\ttdt_vdif.jas.av.vert_int.from_monthly_ts_sigma.am2.am2_control.0021-0080.nc\n",
       "   * description:\tNone\n",
       "   * intvl_in:\t\tmonthly\n",
       "   * intvl_out:\t\tjas, <aospy.Calc(name: qdt_vdif)>\n",
       " Attributes:\n",
       "   * filepath:\t\tqdt_vdif.jas.av.vert_int.from_monthly_ts_sigma.am2.am2_control.0021-0080.nc\n",
       "   * description:\tNone\n",
       "   * intvl_in:\t\tmonthly\n",
       "   * intvl_out:\t\tjas]"
      ]
     },
     "execution_count": 97,
     "metadata": {},
     "output_type": "execute_result"
    }
   ],
   "source": [
    "session.query(test).filter_by(run=rn, intvl_out='jas').join(dbVar).all()"
   ]
  },
  {
   "cell_type": "code",
   "execution_count": 82,
   "metadata": {
    "collapsed": false
   },
   "outputs": [
    {
     "data": {
      "text/plain": [
       "[(True),\n",
       " (False),\n",
       " (False),\n",
       " (False),\n",
       " (False),\n",
       " (True),\n",
       " (False),\n",
       " (False),\n",
       " (False),\n",
       " (False),\n",
       " (True),\n",
       " (False),\n",
       " (False),\n",
       " (False),\n",
       " (False),\n",
       " (True)]"
      ]
     },
     "execution_count": 82,
     "metadata": {},
     "output_type": "execute_result"
    }
   ],
   "source": [
    "session.query(dbCalc.var).filter_by(run=rn, intvl_out='jas').all()"
   ]
  },
  {
   "cell_type": "code",
   "execution_count": 77,
   "metadata": {
    "collapsed": false
   },
   "outputs": [
    {
     "data": {
      "text/plain": [
       "[<Var(name='tdt_sw', description='None')>,\n",
       " <Var(name='tdt_lw', description='None')>,\n",
       " <Var(name='tdt_vdif', description='None')>,\n",
       " <Var(name='qdt_vdif', description='None')>]"
      ]
     },
     "execution_count": 77,
     "metadata": {},
     "output_type": "execute_result"
    }
   ],
   "source": [
    "[dvar for dcal, dvar in session.query(dbCalc, dbVar).filter_by(run=rn, intvl_out='jas').filter(dbCalc.var_id == dbVar.id).distinct()]"
   ]
  },
  {
   "cell_type": "code",
   "execution_count": null,
   "metadata": {
    "collapsed": true
   },
   "outputs": [],
   "source": [
    "session."
   ]
  },
  {
   "cell_type": "code",
   "execution_count": 4,
   "metadata": {
    "collapsed": false
   },
   "outputs": [],
   "source": [
    "a = ('23'\n",
    "    '45')"
   ]
  },
  {
   "cell_type": "code",
   "execution_count": 5,
   "metadata": {
    "collapsed": false
   },
   "outputs": [
    {
     "data": {
      "text/plain": [
       "'2345'"
      ]
     },
     "execution_count": 5,
     "metadata": {},
     "output_type": "execute_result"
    }
   ],
   "source": [
    "a"
   ]
  },
  {
   "cell_type": "code",
   "execution_count": 6,
   "metadata": {
    "collapsed": true
   },
   "outputs": [],
   "source": [
    "session.close()"
   ]
  },
  {
   "cell_type": "code",
   "execution_count": 4,
   "metadata": {
    "collapsed": false
   },
   "outputs": [
    {
     "data": {
      "text/plain": [
       "[<aospy.Calc(name: tdt_sw)>\n",
       " Attributes:\n",
       "   * filepath:\t\ttdt_sw.jas.av.vert_int.from_monthly_ts_sigma.am2.am2_control.0021-0080.nc\n",
       "   * description:\tNone\n",
       "   * intvl_in:\t\tmonthly\n",
       "   * intvl_out:\t\tjas, <aospy.Calc(name: tdt_lw)>\n",
       " Attributes:\n",
       "   * filepath:\t\ttdt_lw.jas.av.vert_int.from_monthly_ts_sigma.am2.am2_control.0021-0080.nc\n",
       "   * description:\tNone\n",
       "   * intvl_in:\t\tmonthly\n",
       "   * intvl_out:\t\tjas, <aospy.Calc(name: tdt_vdif)>\n",
       " Attributes:\n",
       "   * filepath:\t\ttdt_vdif.jas.av.vert_int.from_monthly_ts_sigma.am2.am2_control.0021-0080.nc\n",
       "   * description:\tNone\n",
       "   * intvl_in:\t\tmonthly\n",
       "   * intvl_out:\t\tjas, <aospy.Calc(name: qdt_vdif)>\n",
       " Attributes:\n",
       "   * filepath:\t\tqdt_vdif.jas.av.vert_int.from_monthly_ts_sigma.am2.am2_control.0021-0080.nc\n",
       "   * description:\tNone\n",
       "   * intvl_in:\t\tmonthly\n",
       "   * intvl_out:\t\tjas]"
      ]
     },
     "execution_count": 4,
     "metadata": {},
     "output_type": "execute_result"
    }
   ],
   "source": [
    "cases.am2_control.get_calcs(intvl_out='jas')"
   ]
  },
  {
   "cell_type": "code",
   "execution_count": 9,
   "metadata": {
    "collapsed": false
   },
   "outputs": [
    {
     "name": "stdout",
     "output_type": "stream",
     "text": [
      "FOUND\n"
     ]
    },
    {
     "data": {
      "text/plain": [
       "[(True),\n",
       " (False),\n",
       " (False),\n",
       " (False),\n",
       " (False),\n",
       " (True),\n",
       " (False),\n",
       " (False),\n",
       " (False),\n",
       " (False),\n",
       " (True),\n",
       " (False),\n",
       " (False),\n",
       " (False),\n",
       " (False),\n",
       " (True)]"
      ]
     },
     "execution_count": 9,
     "metadata": {},
     "output_type": "execute_result"
    }
   ],
   "source": [
    "cases.am2_control.get_vars(intvl_out='jas')"
   ]
  },
  {
   "cell_type": "code",
   "execution_count": null,
   "metadata": {
    "collapsed": true
   },
   "outputs": [],
   "source": []
  }
 ],
 "metadata": {
  "kernelspec": {
   "display_name": "Python 2",
   "language": "python",
   "name": "python2"
  },
  "language_info": {
   "codemirror_mode": {
    "name": "ipython",
    "version": 2
   },
   "file_extension": ".py",
   "mimetype": "text/x-python",
   "name": "python",
   "nbconvert_exporter": "python",
   "pygments_lexer": "ipython2",
   "version": "2.7.10"
  }
 },
 "nbformat": 4,
 "nbformat_minor": 0
}
